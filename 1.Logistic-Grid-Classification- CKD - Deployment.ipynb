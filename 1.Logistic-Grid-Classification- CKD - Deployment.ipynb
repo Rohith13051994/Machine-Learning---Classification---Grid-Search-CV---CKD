{
 "cells": [
  {
   "cell_type": "code",
   "execution_count": 1,
   "id": "81f45c3b-121b-41c3-9b0f-f597e321731c",
   "metadata": {},
   "outputs": [],
   "source": [
    "import pandas as pd"
   ]
  },
  {
   "cell_type": "code",
   "execution_count": 2,
   "id": "1abc1519-4631-46c3-ac8e-6a47f653897c",
   "metadata": {},
   "outputs": [],
   "source": [
    "# Reading the Dataset\n",
    "dataset = pd.read_csv('CKD.csv')"
   ]
  },
  {
   "cell_type": "code",
   "execution_count": 3,
   "id": "b42ec849-3c35-443b-a4a3-a0e21875387f",
   "metadata": {},
   "outputs": [],
   "source": [
    "dataset=pd.get_dummies(dataset,drop_first=True, dtype=int)\n",
    "indep=dataset[['age', 'bp', 'al', 'su', 'bgr', 'bu', 'sc', 'sod', 'pot', 'hrmo', 'pcv',\n",
    "       'wc', 'rc', 'sg_b', 'sg_c', 'sg_d', 'sg_e', 'rbc_normal', 'pc_normal',\n",
    "       'pcc_present', 'ba_present', 'htn_yes', 'dm_yes', 'cad_yes',\n",
    "       'appet_yes', 'pe_yes', 'ane_yes']]\n",
    "dep=dataset['classification_yes']\n",
    "from sklearn.model_selection import train_test_split\n",
    "X_train, X_test, y_train, y_test = train_test_split(indep, dep, test_size=0.30, random_state=0)"
   ]
  },
  {
   "cell_type": "code",
   "execution_count": 4,
   "id": "b1d28d24-1392-4759-a865-69158e268734",
   "metadata": {},
   "outputs": [],
   "source": [
    "from sklearn.preprocessing import StandardScaler\n",
    "sc = StandardScaler()\n",
    "X_train = sc.fit_transform(X_train)\n",
    "X_test = sc.transform(X_test)"
   ]
  },
  {
   "cell_type": "code",
   "execution_count": 5,
   "id": "1e7d29fc-3e12-4679-9213-24c272bd2e74",
   "metadata": {},
   "outputs": [
    {
     "name": "stderr",
     "output_type": "stream",
     "text": [
      "C:\\Users\\rohit\\anaconda3\\Lib\\site-packages\\sklearn\\base.py:439: UserWarning: X does not have valid feature names, but StandardScaler was fitted with feature names\n",
      "  warnings.warn(\n"
     ]
    }
   ],
   "source": [
    "preinput = sc.transform([[1300, 12000, 4000, 0, 1, 520, 896, 564, 906, 11, 75, 94, 31, 0, 1, 0, 1, 1, 1, 0, 0, 1, 0, 1, 0, 1, 1]])"
   ]
  },
  {
   "cell_type": "code",
   "execution_count": 6,
   "id": "f5f0b770-b6c4-4b09-9b98-0c18de29a3af",
   "metadata": {},
   "outputs": [
    {
     "data": {
      "text/plain": [
       "array([[ 7.70032702e+01,  9.17716403e+02,  3.23992696e+03,\n",
       "        -3.65781760e-01, -1.97165804e+00,  8.79639273e+00,\n",
       "         1.51181503e+02,  4.12000844e+01,  4.13806254e+02,\n",
       "        -5.36012390e-01,  4.41223130e+00, -3.47720265e+00,\n",
       "         3.23337066e+01, -4.78617687e-01,  1.89044188e+00,\n",
       "        -4.55842306e-01,  7.40270221e+00,  3.91014785e-01,\n",
       "         5.01119822e-01, -3.33996684e-01, -2.29848186e-01,\n",
       "         1.35902126e+00, -7.30045912e-01,  3.33623062e+00,\n",
       "        -1.97350876e+00,  1.95201046e+00,  2.28035085e+00]])"
      ]
     },
     "execution_count": 6,
     "metadata": {},
     "output_type": "execute_result"
    }
   ],
   "source": [
    "preinput"
   ]
  },
  {
   "cell_type": "code",
   "execution_count": 7,
   "id": "4140e2d0-179e-4d7e-959f-e67ad573d414",
   "metadata": {},
   "outputs": [
    {
     "name": "stderr",
     "output_type": "stream",
     "text": [
      "C:\\Users\\rohit\\anaconda3\\Lib\\site-packages\\sklearn\\base.py:439: UserWarning: X does not have valid feature names, but LogisticRegression was fitted with feature names\n",
      "  warnings.warn(\n"
     ]
    }
   ],
   "source": [
    "import pickle\n",
    "loaded_model = pickle.load(open(\"logistic_final.sav\", 'rb'))\n",
    "result = loaded_model.predict(preinput)"
   ]
  },
  {
   "cell_type": "code",
   "execution_count": 8,
   "id": "d378f639-73df-4c20-8338-2b8193a4a9b8",
   "metadata": {},
   "outputs": [
    {
     "data": {
      "text/plain": [
       "array([1])"
      ]
     },
     "execution_count": 8,
     "metadata": {},
     "output_type": "execute_result"
    }
   ],
   "source": [
    "result"
   ]
  }
 ],
 "metadata": {
  "kernelspec": {
   "display_name": "Python 3 (ipykernel)",
   "language": "python",
   "name": "python3"
  },
  "language_info": {
   "codemirror_mode": {
    "name": "ipython",
    "version": 3
   },
   "file_extension": ".py",
   "mimetype": "text/x-python",
   "name": "python",
   "nbconvert_exporter": "python",
   "pygments_lexer": "ipython3",
   "version": "3.11.7"
  }
 },
 "nbformat": 4,
 "nbformat_minor": 5
}
